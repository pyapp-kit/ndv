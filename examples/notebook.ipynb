{
 "cells": [
  {
   "cell_type": "code",
   "execution_count": null,
   "id": "aa695816",
   "metadata": {
    "jupyter": {
     "source_hidden": true
    }
   },
   "outputs": [],
   "source": [
    "# /// script\n",
    "# requires-python = \">=3.10\"\n",
    "# dependencies = [\n",
    "#     \"imageio[tifffile]\",\n",
    "#     \"ndv[jupyter,vispy]\",\n",
    "# ]\n",
    "# ///"
   ]
  },
  {
   "cell_type": "code",
   "execution_count": 1,
   "id": "461399b0-e02d-43d9-9ede-c1aa6c180338",
   "metadata": {},
   "outputs": [
    {
     "data": {
      "application/vnd.jupyter.widget-view+json": {
       "model_id": "61c74e75ad264c2d954595f4b310f649",
       "version_major": 2,
       "version_minor": 0
      },
      "text/plain": [
       "RFBOutputContext()"
      ]
     },
     "metadata": {},
     "output_type": "display_data"
    },
    {
     "data": {
      "application/vnd.jupyter.widget-view+json": {
       "model_id": "1fa995f6b1c4423aa24e73b9c4ce29f0",
       "version_major": 2,
       "version_minor": 0
      },
      "text/plain": [
       "VBox(children=(HBox(children=(Label(value='.ndarray (60, 2, 256, 256), uint16, 15.73MB'), Image(value=b'GIF89a…"
      ]
     },
     "metadata": {},
     "output_type": "display_data"
    }
   ],
   "source": [
    "from ndv import data, imshow\n",
    "\n",
    "viewer = imshow(data.cells3d())\n",
    "viewer.display_model.channel_mode = \"composite\"\n",
    "viewer.display_model.current_index.update({0: 32})"
   ]
  },
  {
   "cell_type": "code",
   "execution_count": 3,
   "id": "455ebabe-c2c1-4366-9784-65e45def5aa2",
   "metadata": {},
   "outputs": [],
   "source": [
    "viewer.display_model.visible_axes = (0, 3)"
   ]
  },
  {
   "cell_type": "code",
   "execution_count": 4,
   "id": "fb96f975-aa05-4d8a-9f85-f4316293e05d",
   "metadata": {},
   "outputs": [],
   "source": [
    "viewer.display_model.default_lut.cmap = \"magma\"\n",
    "viewer.display_model.channel_mode = \"grayscale\""
   ]
  }
 ],
 "metadata": {
  "kernelspec": {
   "display_name": "Python 3 (ipykernel)",
   "language": "python",
   "name": "python3"
  },
  "language_info": {
   "codemirror_mode": {
    "name": "ipython",
    "version": 3
   },
   "file_extension": ".py",
   "mimetype": "text/x-python",
   "name": "python",
   "nbconvert_exporter": "python",
   "pygments_lexer": "ipython3",
   "version": "3.12.6"
  }
 },
 "nbformat": 4,
 "nbformat_minor": 5
}
